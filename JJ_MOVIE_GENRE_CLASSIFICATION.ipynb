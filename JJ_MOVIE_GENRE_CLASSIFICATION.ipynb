{
  "nbformat": 4,
  "nbformat_minor": 0,
  "metadata": {
    "colab": {
      "name": "JJ - MOVIE GENRE CLASSIFICATION.ipynb",
      "version": "0.3.2",
      "views": {},
      "default_view": {},
      "provenance": [
        {
          "file_id": "1B1mL7Y-J-3lE0j84V-EipH-WljXlH0Z0",
          "timestamp": 1532298437953
        }
      ],
      "collapsed_sections": []
    },
    "kernelspec": {
      "name": "python3",
      "display_name": "Python 3"
    },
    "accelerator": "GPU"
  },
  "cells": [
    {
      "metadata": {
        "id": "qzwoB9lYj7Lb",
        "colab_type": "text"
      },
      "cell_type": "markdown",
      "source": [
        "# **MOVIE GENRE CLASSIFICATION**\n",
        "## by: Juan Carlos Eraso & Jonh Calvo\n",
        "\n",
        "---\n",
        "\n"
      ]
    },
    {
      "metadata": {
        "id": "cZomucE6JDwa",
        "colab_type": "text"
      },
      "cell_type": "markdown",
      "source": [
        "# **PREPARING COLAB **"
      ]
    },
    {
      "metadata": {
        "id": "p70xoS2mJhoE",
        "colab_type": "code",
        "colab": {
          "autoexec": {
            "startup": false,
            "wait_interval": 0
          },
          "base_uri": "https://localhost:8080/",
          "height": 1550
        },
        "outputId": "6cfae483-0453-475f-ce02-c02751064c2c",
        "executionInfo": {
          "status": "ok",
          "timestamp": 1532380693578,
          "user_tz": 300,
          "elapsed": 9775,
          "user": {
            "displayName": "Juan Carlos Eraso",
            "photoUrl": "//lh3.googleusercontent.com/-S-vF252lc_w/AAAAAAAAAAI/AAAAAAAAAAs/o83TlZr9iPQ/s50-c-k-no/photo.jpg",
            "userId": "114375146705102855436"
          }
        }
      },
      "cell_type": "code",
      "source": [
        "!pip install tqdm livelossplot kaggle\n",
        "!pip install --user kaggle\n",
        "!pip install pydo"
      ],
      "execution_count": 1,
      "outputs": [
        {
          "output_type": "stream",
          "text": [
            "Collecting tqdm\n",
            "\u001b[?25l  Downloading https://files.pythonhosted.org/packages/93/24/6ab1df969db228aed36a648a8959d1027099ce45fad67532b9673d533318/tqdm-4.23.4-py2.py3-none-any.whl (42kB)\n",
            "\u001b[K    100% |████████████████████████████████| 51kB 2.0MB/s \n",
            "\u001b[?25hCollecting livelossplot\n",
            "  Downloading https://files.pythonhosted.org/packages/0c/01/3e34559dbdb98580d5e8f62bc3853975c2a2079834bfba2c1bdffe680804/livelossplot-0.2.0.tar.gz\n",
            "Collecting kaggle\n",
            "\u001b[?25l  Downloading https://files.pythonhosted.org/packages/93/11/f7bc11a9527c52a31695816e7f38d421d8da0d096beff3fa2638dfbd4d95/kaggle-1.4.2.tar.gz (43kB)\n",
            "\u001b[K    100% |████████████████████████████████| 51kB 4.8MB/s \n",
            "\u001b[?25hRequirement already satisfied: matplotlib in /usr/local/lib/python3.6/dist-packages (from livelossplot) (2.1.2)\n",
            "Requirement already satisfied: notebook in /usr/local/lib/python3.6/dist-packages (from livelossplot) (5.2.2)\n",
            "Requirement already satisfied: urllib3<1.23.0,>=1.15 in /usr/local/lib/python3.6/dist-packages (from kaggle) (1.22)\n",
            "Requirement already satisfied: six>=1.10 in /usr/local/lib/python3.6/dist-packages (from kaggle) (1.11.0)\n",
            "Requirement already satisfied: certifi in /usr/local/lib/python3.6/dist-packages (from kaggle) (2018.4.16)\n",
            "Requirement already satisfied: python-dateutil in /usr/local/lib/python3.6/dist-packages (from kaggle) (2.5.3)\n",
            "Requirement already satisfied: requests in /usr/local/lib/python3.6/dist-packages (from kaggle) (2.18.4)\n",
            "Requirement already satisfied: numpy>=1.7.1 in /usr/local/lib/python3.6/dist-packages (from matplotlib->livelossplot) (1.14.5)\n",
            "Requirement already satisfied: cycler>=0.10 in /usr/local/lib/python3.6/dist-packages (from matplotlib->livelossplot) (0.10.0)\n",
            "Requirement already satisfied: pyparsing!=2.0.4,!=2.1.2,!=2.1.6,>=2.0.1 in /usr/local/lib/python3.6/dist-packages (from matplotlib->livelossplot) (2.2.0)\n",
            "Requirement already satisfied: pytz in /usr/local/lib/python3.6/dist-packages (from matplotlib->livelossplot) (2018.5)\n",
            "Requirement already satisfied: tornado>=4 in /usr/local/lib/python3.6/dist-packages (from notebook->livelossplot) (4.5.3)\n",
            "Requirement already satisfied: terminado>=0.3.3; sys_platform != \"win32\" in /usr/local/lib/python3.6/dist-packages (from notebook->livelossplot) (0.8.1)\n",
            "Requirement already satisfied: jupyter-client in /usr/local/lib/python3.6/dist-packages (from notebook->livelossplot) (5.2.3)\n",
            "Requirement already satisfied: ipykernel in /usr/local/lib/python3.6/dist-packages (from notebook->livelossplot) (4.6.1)\n",
            "Requirement already satisfied: ipython-genutils in /usr/local/lib/python3.6/dist-packages (from notebook->livelossplot) (0.2.0)\n",
            "Requirement already satisfied: nbconvert in /usr/local/lib/python3.6/dist-packages (from notebook->livelossplot) (5.3.1)\n",
            "Requirement already satisfied: jupyter-core in /usr/local/lib/python3.6/dist-packages (from notebook->livelossplot) (4.4.0)\n",
            "Requirement already satisfied: traitlets>=4.2.1 in /usr/local/lib/python3.6/dist-packages (from notebook->livelossplot) (4.3.2)\n",
            "Requirement already satisfied: nbformat in /usr/local/lib/python3.6/dist-packages (from notebook->livelossplot) (4.4.0)\n",
            "Requirement already satisfied: jinja2 in /usr/local/lib/python3.6/dist-packages (from notebook->livelossplot) (2.10)\n",
            "Requirement already satisfied: chardet<3.1.0,>=3.0.2 in /usr/local/lib/python3.6/dist-packages (from requests->kaggle) (3.0.4)\n",
            "Requirement already satisfied: idna<2.7,>=2.5 in /usr/local/lib/python3.6/dist-packages (from requests->kaggle) (2.6)\n",
            "Requirement already satisfied: ptyprocess; os_name != \"nt\" in /usr/local/lib/python3.6/dist-packages (from terminado>=0.3.3; sys_platform != \"win32\"->notebook->livelossplot) (0.6.0)\n",
            "Requirement already satisfied: pyzmq>=13 in /usr/local/lib/python3.6/dist-packages (from jupyter-client->notebook->livelossplot) (16.0.4)\n",
            "Requirement already satisfied: ipython>=4.0.0 in /usr/local/lib/python3.6/dist-packages (from ipykernel->notebook->livelossplot) (5.5.0)\n",
            "Requirement already satisfied: testpath in /usr/local/lib/python3.6/dist-packages (from nbconvert->notebook->livelossplot) (0.3.1)\n",
            "Requirement already satisfied: pandocfilters>=1.4.1 in /usr/local/lib/python3.6/dist-packages (from nbconvert->notebook->livelossplot) (1.4.2)\n",
            "Requirement already satisfied: bleach in /usr/local/lib/python3.6/dist-packages (from nbconvert->notebook->livelossplot) (2.1.3)\n",
            "Requirement already satisfied: mistune>=0.7.4 in /usr/local/lib/python3.6/dist-packages (from nbconvert->notebook->livelossplot) (0.8.3)\n",
            "Requirement already satisfied: entrypoints>=0.2.2 in /usr/local/lib/python3.6/dist-packages (from nbconvert->notebook->livelossplot) (0.2.3)\n",
            "Requirement already satisfied: pygments in /usr/local/lib/python3.6/dist-packages (from nbconvert->notebook->livelossplot) (2.1.3)\n",
            "Requirement already satisfied: decorator in /usr/local/lib/python3.6/dist-packages (from traitlets>=4.2.1->notebook->livelossplot) (4.3.0)\n",
            "Requirement already satisfied: jsonschema!=2.5.0,>=2.4 in /usr/local/lib/python3.6/dist-packages (from nbformat->notebook->livelossplot) (2.6.0)\n",
            "Requirement already satisfied: MarkupSafe>=0.23 in /usr/local/lib/python3.6/dist-packages (from jinja2->notebook->livelossplot) (1.0)\n",
            "Requirement already satisfied: simplegeneric>0.8 in /usr/local/lib/python3.6/dist-packages (from ipython>=4.0.0->ipykernel->notebook->livelossplot) (0.8.1)\n",
            "Requirement already satisfied: pickleshare in /usr/local/lib/python3.6/dist-packages (from ipython>=4.0.0->ipykernel->notebook->livelossplot) (0.7.4)\n",
            "Requirement already satisfied: prompt-toolkit<2.0.0,>=1.0.4 in /usr/local/lib/python3.6/dist-packages (from ipython>=4.0.0->ipykernel->notebook->livelossplot) (1.0.15)\n",
            "Requirement already satisfied: pexpect; sys_platform != \"win32\" in /usr/local/lib/python3.6/dist-packages (from ipython>=4.0.0->ipykernel->notebook->livelossplot) (4.6.0)\n",
            "Requirement already satisfied: setuptools>=18.5 in /usr/local/lib/python3.6/dist-packages (from ipython>=4.0.0->ipykernel->notebook->livelossplot) (39.1.0)\n",
            "Requirement already satisfied: html5lib!=1.0b1,!=1.0b2,!=1.0b3,!=1.0b4,!=1.0b5,!=1.0b6,!=1.0b7,!=1.0b8,>=0.99999999pre in /usr/local/lib/python3.6/dist-packages (from bleach->nbconvert->notebook->livelossplot) (1.0.1)\n",
            "Requirement already satisfied: wcwidth in /usr/local/lib/python3.6/dist-packages (from prompt-toolkit<2.0.0,>=1.0.4->ipython>=4.0.0->ipykernel->notebook->livelossplot) (0.1.7)\n",
            "Requirement already satisfied: webencodings in /usr/local/lib/python3.6/dist-packages (from html5lib!=1.0b1,!=1.0b2,!=1.0b3,!=1.0b4,!=1.0b5,!=1.0b6,!=1.0b7,!=1.0b8,>=0.99999999pre->bleach->nbconvert->notebook->livelossplot) (0.5.1)\n",
            "Building wheels for collected packages: livelossplot, kaggle\n",
            "  Running setup.py bdist_wheel for livelossplot ... \u001b[?25l-\b \b\\\b \bdone\n",
            "\u001b[?25h  Stored in directory: /content/.cache/pip/wheels/67/8b/e9/3990164e3b2a421145b9d9d76fc8aa889225d495b043faeb73\n",
            "  Running setup.py bdist_wheel for kaggle ... \u001b[?25l-\b \b\\\b \bdone\n",
            "\u001b[?25h  Stored in directory: /content/.cache/pip/wheels/3b/8e/14/adcbb71d126f5fb939fec8aa81394450922c20eee876bf8882\n",
            "Successfully built livelossplot kaggle\n",
            "Installing collected packages: tqdm, livelossplot, kaggle\n",
            "Successfully installed kaggle-1.4.2 livelossplot-0.2.0 tqdm-4.23.4\n"
          ],
          "name": "stdout"
        },
        {
          "output_type": "stream",
          "text": [
            "\u001b[33mYou are using pip version 10.0.1, however version 18.0 is available.\r\n",
            "You should consider upgrading via the 'pip install --upgrade pip' command.\u001b[0m\n",
            "Requirement already satisfied: kaggle in /usr/local/lib/python3.6/dist-packages (1.4.2)\n",
            "Requirement already satisfied: python-dateutil in /usr/local/lib/python3.6/dist-packages (from kaggle) (2.5.3)\n",
            "Requirement already satisfied: certifi in /usr/local/lib/python3.6/dist-packages (from kaggle) (2018.4.16)\n",
            "Requirement already satisfied: six>=1.10 in /usr/local/lib/python3.6/dist-packages (from kaggle) (1.11.0)\n",
            "Requirement already satisfied: tqdm in /usr/local/lib/python3.6/dist-packages (from kaggle) (4.23.4)\n",
            "Requirement already satisfied: urllib3<1.23.0,>=1.15 in /usr/local/lib/python3.6/dist-packages (from kaggle) (1.22)\n",
            "Requirement already satisfied: requests in /usr/local/lib/python3.6/dist-packages (from kaggle) (2.18.4)\n",
            "Requirement already satisfied: idna<2.7,>=2.5 in /usr/local/lib/python3.6/dist-packages (from requests->kaggle) (2.6)\n",
            "Requirement already satisfied: chardet<3.1.0,>=3.0.2 in /usr/local/lib/python3.6/dist-packages (from requests->kaggle) (3.0.4)\n",
            "\u001b[33mYou are using pip version 10.0.1, however version 18.0 is available.\n",
            "You should consider upgrading via the 'pip install --upgrade pip' command.\u001b[0m\n",
            "Collecting pydo\n",
            "\u001b[?25l  Downloading https://files.pythonhosted.org/packages/33/04/a5df9a1006f9a5310dbd74f35d67a1c425dcd50e86d5f841fd78d77e93bc/PyDO-2.0.1.tar.gz (378kB)\n",
            "\u001b[K    100% |████████████████████████████████| 378kB 4.9MB/s \n",
            "\u001b[?25h    Complete output from command python setup.py egg_info:\n",
            "    Traceback (most recent call last):\n",
            "      File \"<string>\", line 1, in <module>\n",
            "      File \"/tmp/pip-install-arfdfg_g/pydo/setup.py\", line 1, in <module>\n",
            "        import ez_setup\n",
            "      File \"/tmp/pip-install-arfdfg_g/pydo/ez_setup/__init__.py\", line 91\n",
            "        except pkg_resources.VersionConflict, e:\n",
            "                                            ^\n",
            "    SyntaxError: invalid syntax\n",
            "    \n",
            "    ----------------------------------------\n",
            "\u001b[31mCommand \"python setup.py egg_info\" failed with error code 1 in /tmp/pip-install-arfdfg_g/pydo/\u001b[0m\n",
            "\u001b[33mYou are using pip version 10.0.1, however version 18.0 is available.\n",
            "You should consider upgrading via the 'pip install --upgrade pip' command.\u001b[0m\n"
          ],
          "name": "stdout"
        }
      ]
    },
    {
      "metadata": {
        "id": "SXWvdQ0PM5I8",
        "colab_type": "code",
        "colab": {
          "autoexec": {
            "startup": false,
            "wait_interval": 0
          },
          "resources": {
            "http://localhost:8080/nbextensions/google.colab/files.js": {
              "data": "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",
              "ok": true,
              "headers": [
                [
                  "content-type",
                  "application/javascript"
                ]
              ],
              "status": 200,
              "status_text": ""
            }
          },
          "base_uri": "https://localhost:8080/",
          "height": 86
        },
        "outputId": "06764bdd-92ce-4f5e-a021-98aec820499e",
        "executionInfo": {
          "status": "ok",
          "timestamp": 1532380701271,
          "user_tz": 300,
          "elapsed": 6325,
          "user": {
            "displayName": "Juan Carlos Eraso",
            "photoUrl": "//lh3.googleusercontent.com/-S-vF252lc_w/AAAAAAAAAAI/AAAAAAAAAAs/o83TlZr9iPQ/s50-c-k-no/photo.jpg",
            "userId": "114375146705102855436"
          }
        }
      },
      "cell_type": "code",
      "source": [
        "#UPLOAD DE KAGGLE API FILE (TOKEN)\n",
        "#this is necesary for downloading the competition files\n",
        "\n",
        "from google.colab import files\n",
        "files.upload()"
      ],
      "execution_count": 2,
      "outputs": [
        {
          "output_type": "display_data",
          "data": {
            "text/html": [
              "\n",
              "     <input type=\"file\" id=\"files-31c8408f-d25d-4ad2-945d-8f3bc8d78c38\" name=\"files[]\" multiple disabled />\n",
              "     <output id=\"result-31c8408f-d25d-4ad2-945d-8f3bc8d78c38\">\n",
              "      Upload widget is only available when the cell has been executed in the\n",
              "      current browser session. Please rerun this cell to enable.\n",
              "      </output>\n",
              "      <script src=\"/nbextensions/google.colab/files.js\"></script> "
            ],
            "text/plain": [
              "<IPython.core.display.HTML object>"
            ]
          },
          "metadata": {
            "tags": []
          }
        },
        {
          "output_type": "stream",
          "text": [
            "Saving kaggle.json to kaggle.json\n"
          ],
          "name": "stdout"
        },
        {
          "output_type": "execute_result",
          "data": {
            "text/plain": [
              "{'kaggle.json': b'{\"username\":\"juanchokaggle\",\"key\":\"fa7aa04de1e143a64357424c74b7bec7\"}'}"
            ]
          },
          "metadata": {
            "tags": []
          },
          "execution_count": 2
        }
      ]
    },
    {
      "metadata": {
        "id": "gbQdGMgUNKd8",
        "colab_type": "code",
        "colab": {
          "autoexec": {
            "startup": false,
            "wait_interval": 0
          }
        }
      },
      "cell_type": "code",
      "source": [
        "!mkdir -p ~/.kaggle\n",
        "!cp kaggle.json ~/.kaggle/\n",
        "!chmod 600 /content/.kaggle/kaggle.json"
      ],
      "execution_count": 0,
      "outputs": []
    },
    {
      "metadata": {
        "id": "6ud8t70opTWh",
        "colab_type": "code",
        "colab": {
          "autoexec": {
            "startup": false,
            "wait_interval": 0
          },
          "base_uri": "https://localhost:8080/",
          "height": 34
        },
        "outputId": "ae56e536-0244-41e8-aed3-d12c10acebee",
        "executionInfo": {
          "status": "ok",
          "timestamp": 1532380711159,
          "user_tz": 300,
          "elapsed": 2763,
          "user": {
            "displayName": "Juan Carlos Eraso",
            "photoUrl": "//lh3.googleusercontent.com/-S-vF252lc_w/AAAAAAAAAAI/AAAAAAAAAAs/o83TlZr9iPQ/s50-c-k-no/photo.jpg",
            "userId": "114375146705102855436"
          }
        }
      },
      "cell_type": "code",
      "source": [
        "#IMPORT IMPORTANT PACKAGES\n",
        "import pandas as pd\n",
        "import numpy as np\n",
        "from sklearn.preprocessing import MultiLabelBinarizer\n",
        "from sklearn.multiclass import OneVsRestClassifier\n",
        "from sklearn.ensemble import RandomForestRegressor, RandomForestClassifier\n",
        "from sklearn.metrics import r2_score, roc_auc_score\n",
        "from sklearn.model_selection import train_test_split\n",
        "import matplotlib.pyplot as plt\n",
        "\n",
        "from tqdm import tqdm\n",
        "import os,zipfile\n",
        "%matplotlib inline\n",
        "\n",
        "from keras.layers.convolutional import Conv2D\n",
        "from keras.utils import np_utils\n",
        "from keras.models import Sequential\n",
        "from keras.layers import Dense, Dropout, Activation, Flatten, MaxPooling2D\n",
        "from keras.optimizers import SGD,RMSprop,Adam\n",
        "from livelossplot import PlotLossesKeras\n",
        "from keras.callbacks import History"
      ],
      "execution_count": 4,
      "outputs": [
        {
          "output_type": "stream",
          "text": [
            "Using TensorFlow backend.\n"
          ],
          "name": "stderr"
        }
      ]
    },
    {
      "metadata": {
        "id": "45ZsTurtKGya",
        "colab_type": "code",
        "colab": {
          "autoexec": {
            "startup": false,
            "wait_interval": 0
          },
          "base_uri": "https://localhost:8080/",
          "height": 232
        },
        "outputId": "53fe7a5a-ec65-4d90-e225-b01c9c10f8bd",
        "executionInfo": {
          "status": "error",
          "timestamp": 1532380730978,
          "user_tz": 300,
          "elapsed": 754,
          "user": {
            "displayName": "Juan Carlos Eraso",
            "photoUrl": "//lh3.googleusercontent.com/-S-vF252lc_w/AAAAAAAAAAI/AAAAAAAAAAs/o83TlZr9iPQ/s50-c-k-no/photo.jpg",
            "userId": "114375146705102855436"
          }
        }
      },
      "cell_type": "code",
      "source": [
        "#IMPORT IMPORTANT PACKAGES\n",
        "\n",
        "#AFTER RUNINGS, THERE WILL BE AN ERROR THAT DOES NOT AFFECT IN ANY WAY\n",
        "\n",
        "from googleapiclient.discovery import build\n",
        "import io, os\n",
        "from googleapiclient.http import MediaIoBaseDownload\n",
        "from google.colab import auth\n",
        "auth.authenticate_user()\n",
        "drive_service = build('drive', 'v3')\n",
        "results = drive_service.files().list(\n",
        "        q=\"name = 'kaggle.json'\", fields=\"files(id)\").execute()\n",
        "kaggle_api_key = results.get('files', [])\n",
        "filename = \"/content/.kaggle/kaggle.json\"\n",
        "os.makedirs(os.path.dirname(filename), exist_ok=True)\n",
        "request = drive_service.files().get_media(fileId=kaggle_api_key[0]['id'])\n",
        "fh = io.FileIO(filename, 'wb')\n",
        "downloader = MediaIoBaseDownload(fh, request)\n",
        "done = False\n",
        "while done is False:\n",
        "    status, done = downloader.next_chunk()\n",
        "    print(\"Download %d%%.\" % int(status.progress() * 100))\n",
        "os.chmod(filename, 600)"
      ],
      "execution_count": 5,
      "outputs": [
        {
          "output_type": "error",
          "ename": "IndexError",
          "evalue": "ignored",
          "traceback": [
            "\u001b[0;31m---------------------------------------------------------------------------\u001b[0m",
            "\u001b[0;31mIndexError\u001b[0m                                Traceback (most recent call last)",
            "\u001b[0;32m<ipython-input-5-4effc674e55e>\u001b[0m in \u001b[0;36m<module>\u001b[0;34m()\u001b[0m\n\u001b[1;32m     11\u001b[0m \u001b[0mfilename\u001b[0m \u001b[0;34m=\u001b[0m \u001b[0;34m\"/content/.kaggle/kaggle.json\"\u001b[0m\u001b[0;34m\u001b[0m\u001b[0m\n\u001b[1;32m     12\u001b[0m \u001b[0mos\u001b[0m\u001b[0;34m.\u001b[0m\u001b[0mmakedirs\u001b[0m\u001b[0;34m(\u001b[0m\u001b[0mos\u001b[0m\u001b[0;34m.\u001b[0m\u001b[0mpath\u001b[0m\u001b[0;34m.\u001b[0m\u001b[0mdirname\u001b[0m\u001b[0;34m(\u001b[0m\u001b[0mfilename\u001b[0m\u001b[0;34m)\u001b[0m\u001b[0;34m,\u001b[0m \u001b[0mexist_ok\u001b[0m\u001b[0;34m=\u001b[0m\u001b[0;32mTrue\u001b[0m\u001b[0;34m)\u001b[0m\u001b[0;34m\u001b[0m\u001b[0m\n\u001b[0;32m---> 13\u001b[0;31m \u001b[0mrequest\u001b[0m \u001b[0;34m=\u001b[0m \u001b[0mdrive_service\u001b[0m\u001b[0;34m.\u001b[0m\u001b[0mfiles\u001b[0m\u001b[0;34m(\u001b[0m\u001b[0;34m)\u001b[0m\u001b[0;34m.\u001b[0m\u001b[0mget_media\u001b[0m\u001b[0;34m(\u001b[0m\u001b[0mfileId\u001b[0m\u001b[0;34m=\u001b[0m\u001b[0mkaggle_api_key\u001b[0m\u001b[0;34m[\u001b[0m\u001b[0;36m0\u001b[0m\u001b[0;34m]\u001b[0m\u001b[0;34m[\u001b[0m\u001b[0;34m'id'\u001b[0m\u001b[0;34m]\u001b[0m\u001b[0;34m)\u001b[0m\u001b[0;34m\u001b[0m\u001b[0m\n\u001b[0m\u001b[1;32m     14\u001b[0m \u001b[0mfh\u001b[0m \u001b[0;34m=\u001b[0m \u001b[0mio\u001b[0m\u001b[0;34m.\u001b[0m\u001b[0mFileIO\u001b[0m\u001b[0;34m(\u001b[0m\u001b[0mfilename\u001b[0m\u001b[0;34m,\u001b[0m \u001b[0;34m'wb'\u001b[0m\u001b[0;34m)\u001b[0m\u001b[0;34m\u001b[0m\u001b[0m\n\u001b[1;32m     15\u001b[0m \u001b[0mdownloader\u001b[0m \u001b[0;34m=\u001b[0m \u001b[0mMediaIoBaseDownload\u001b[0m\u001b[0;34m(\u001b[0m\u001b[0mfh\u001b[0m\u001b[0;34m,\u001b[0m \u001b[0mrequest\u001b[0m\u001b[0;34m)\u001b[0m\u001b[0;34m\u001b[0m\u001b[0m\n",
            "\u001b[0;31mIndexError\u001b[0m: list index out of range"
          ]
        }
      ]
    },
    {
      "metadata": {
        "id": "1dfXFBMziq99",
        "colab_type": "text"
      },
      "cell_type": "markdown",
      "source": [
        "## Download and read data from Kaggle to CoLab "
      ]
    },
    {
      "metadata": {
        "id": "bpPnSsC4mfG9",
        "colab_type": "text"
      },
      "cell_type": "markdown",
      "source": [
        "### Download and UnZip"
      ]
    },
    {
      "metadata": {
        "id": "M1JnBOBUK250",
        "colab_type": "code",
        "colab": {
          "autoexec": {
            "startup": false,
            "wait_interval": 0
          },
          "base_uri": "https://localhost:8080/",
          "height": 241
        },
        "outputId": "1a6a3fcf-009d-41c9-cbe5-11f660515709",
        "executionInfo": {
          "status": "ok",
          "timestamp": 1532380861776,
          "user_tz": 300,
          "elapsed": 124269,
          "user": {
            "displayName": "Juan Carlos Eraso",
            "photoUrl": "//lh3.googleusercontent.com/-S-vF252lc_w/AAAAAAAAAAI/AAAAAAAAAAs/o83TlZr9iPQ/s50-c-k-no/photo.jpg",
            "userId": "114375146705102855436"
          }
        }
      },
      "cell_type": "code",
      "source": [
        "!kaggle competitions download -c miia4406-movie-genre-classification"
      ],
      "execution_count": 6,
      "outputs": [
        {
          "output_type": "stream",
          "text": [
            "Downloading dataTesting.csv to /content/.kaggle/competitions/miia4406-movie-genre-classification\n",
            "  0%|                                               | 0.00/2.51M [00:00<?, ?B/s]\n",
            "100%|███████████████████████████████████████| 2.51M/2.51M [00:00<00:00, 113MB/s]\n",
            "Downloading dataTraining.csv to /content/.kaggle/competitions/miia4406-movie-genre-classification\n",
            "  0%|                                               | 0.00/6.13M [00:00<?, ?B/s]\n",
            "100%|██████████████████████████████████████| 6.13M/6.13M [00:00<00:00, 80.6MB/s]\n",
            "Downloading images_resize_gray.zip to /content/.kaggle/competitions/miia4406-movie-genre-classification\n",
            " 84%|████████████████████████████████▊      | 94.0M/112M [00:00<00:00, 96.1MB/s]\n",
            "100%|█████████████████████████████████████████| 112M/112M [00:00<00:00, 149MB/s]\n",
            "Downloading images.zip to /content/.kaggle/competitions/miia4406-movie-genre-classification\n",
            " 43%|████████████████▎                     | 1.66G/3.85G [00:21<01:19, 29.6MB/s]"
          ],
          "name": "stdout"
        },
        {
          "output_type": "stream",
          "text": [
            "100%|█████████████████████████████████████▉| 3.85G/3.85G [01:59<00:00, 21.3MB/s]\n",
            "100%|██████████████████████████████████████| 3.85G/3.85G [01:59<00:00, 34.7MB/s]\n"
          ],
          "name": "stdout"
        }
      ]
    },
    {
      "metadata": {
        "id": "WNCIe5fkLH9r",
        "colab_type": "code",
        "colab": {
          "autoexec": {
            "startup": false,
            "wait_interval": 0
          }
        }
      },
      "cell_type": "code",
      "source": [
        "dataTraining = pd.read_csv('/content/.kaggle/competitions/miia4406-movie-genre-classification/dataTraining.csv', encoding='UTF-8', index_col=0)\n",
        "dataTesting = pd.read_csv('/content/.kaggle/competitions/miia4406-movie-genre-classification/dataTesting.csv', encoding='UTF-8', index_col=0)"
      ],
      "execution_count": 0,
      "outputs": []
    },
    {
      "metadata": {
        "id": "qlvK2yE3O4td",
        "colab_type": "code",
        "colab": {
          "autoexec": {
            "startup": false,
            "wait_interval": 0
          },
          "base_uri": "https://localhost:8080/",
          "height": 204
        },
        "outputId": "b88d608a-25da-40af-87ea-203fa72f115a",
        "executionInfo": {
          "status": "ok",
          "timestamp": 1532380924671,
          "user_tz": 300,
          "elapsed": 714,
          "user": {
            "displayName": "Juan Carlos Eraso",
            "photoUrl": "//lh3.googleusercontent.com/-S-vF252lc_w/AAAAAAAAAAI/AAAAAAAAAAs/o83TlZr9iPQ/s50-c-k-no/photo.jpg",
            "userId": "114375146705102855436"
          }
        }
      },
      "cell_type": "code",
      "source": [
        "dataTraining.head()"
      ],
      "execution_count": 8,
      "outputs": [
        {
          "output_type": "execute_result",
          "data": {
            "text/html": [
              "<div>\n",
              "<style scoped>\n",
              "    .dataframe tbody tr th:only-of-type {\n",
              "        vertical-align: middle;\n",
              "    }\n",
              "\n",
              "    .dataframe tbody tr th {\n",
              "        vertical-align: top;\n",
              "    }\n",
              "\n",
              "    .dataframe thead th {\n",
              "        text-align: right;\n",
              "    }\n",
              "</style>\n",
              "<table border=\"1\" class=\"dataframe\">\n",
              "  <thead>\n",
              "    <tr style=\"text-align: right;\">\n",
              "      <th></th>\n",
              "      <th>year</th>\n",
              "      <th>title</th>\n",
              "      <th>plot</th>\n",
              "      <th>genres</th>\n",
              "      <th>rating</th>\n",
              "    </tr>\n",
              "  </thead>\n",
              "  <tbody>\n",
              "    <tr>\n",
              "      <th>3107</th>\n",
              "      <td>2003</td>\n",
              "      <td>Most</td>\n",
              "      <td>most is the story of a single father who takes...</td>\n",
              "      <td>['Short', 'Drama']</td>\n",
              "      <td>8.0</td>\n",
              "    </tr>\n",
              "    <tr>\n",
              "      <th>900</th>\n",
              "      <td>2008</td>\n",
              "      <td>How to Be a Serial Killer</td>\n",
              "      <td>a serial killer decides to teach the secrets o...</td>\n",
              "      <td>['Comedy', 'Crime', 'Horror']</td>\n",
              "      <td>5.6</td>\n",
              "    </tr>\n",
              "    <tr>\n",
              "      <th>6724</th>\n",
              "      <td>1941</td>\n",
              "      <td>A Woman's Face</td>\n",
              "      <td>in sweden ,  a female blackmailer with a disfi...</td>\n",
              "      <td>['Drama', 'Film-Noir', 'Thriller']</td>\n",
              "      <td>7.2</td>\n",
              "    </tr>\n",
              "    <tr>\n",
              "      <th>4704</th>\n",
              "      <td>1954</td>\n",
              "      <td>Executive Suite</td>\n",
              "      <td>in a friday afternoon in new york ,  the presi...</td>\n",
              "      <td>['Drama']</td>\n",
              "      <td>7.4</td>\n",
              "    </tr>\n",
              "    <tr>\n",
              "      <th>2582</th>\n",
              "      <td>1990</td>\n",
              "      <td>Narrow Margin</td>\n",
              "      <td>in los angeles ,  the editor of a publishing h...</td>\n",
              "      <td>['Action', 'Crime', 'Thriller']</td>\n",
              "      <td>6.6</td>\n",
              "    </tr>\n",
              "  </tbody>\n",
              "</table>\n",
              "</div>"
            ],
            "text/plain": [
              "      year                      title  \\\n",
              "3107  2003                       Most   \n",
              "900   2008  How to Be a Serial Killer   \n",
              "6724  1941             A Woman's Face   \n",
              "4704  1954            Executive Suite   \n",
              "2582  1990              Narrow Margin   \n",
              "\n",
              "                                                   plot  \\\n",
              "3107  most is the story of a single father who takes...   \n",
              "900   a serial killer decides to teach the secrets o...   \n",
              "6724  in sweden ,  a female blackmailer with a disfi...   \n",
              "4704  in a friday afternoon in new york ,  the presi...   \n",
              "2582  in los angeles ,  the editor of a publishing h...   \n",
              "\n",
              "                                  genres  rating  \n",
              "3107                  ['Short', 'Drama']     8.0  \n",
              "900        ['Comedy', 'Crime', 'Horror']     5.6  \n",
              "6724  ['Drama', 'Film-Noir', 'Thriller']     7.2  \n",
              "4704                           ['Drama']     7.4  \n",
              "2582     ['Action', 'Crime', 'Thriller']     6.6  "
            ]
          },
          "metadata": {
            "tags": []
          },
          "execution_count": 8
        }
      ]
    },
    {
      "metadata": {
        "id": "OsK0A7QQSmmD",
        "colab_type": "code",
        "colab": {
          "autoexec": {
            "startup": false,
            "wait_interval": 0
          },
          "base_uri": "https://localhost:8080/",
          "height": 119
        },
        "outputId": "2c26cceb-e58c-4b4f-a061-1e165eacc5bc",
        "executionInfo": {
          "status": "ok",
          "timestamp": 1532380926077,
          "user_tz": 300,
          "elapsed": 572,
          "user": {
            "displayName": "Juan Carlos Eraso",
            "photoUrl": "//lh3.googleusercontent.com/-S-vF252lc_w/AAAAAAAAAAI/AAAAAAAAAAs/o83TlZr9iPQ/s50-c-k-no/photo.jpg",
            "userId": "114375146705102855436"
          }
        }
      },
      "cell_type": "code",
      "source": [
        "dataTraining.index"
      ],
      "execution_count": 9,
      "outputs": [
        {
          "output_type": "execute_result",
          "data": {
            "text/plain": [
              "Int64Index([ 3107,   900,  6724,  4704,  2582,  9784,  8804,  3501,  7145,\n",
              "             4067,\n",
              "            ...\n",
              "             8268,  3313,  4781,  6632, 10794,  8417,  1592,  1723,  7605,\n",
              "              215],\n",
              "           dtype='int64', length=7895)"
            ]
          },
          "metadata": {
            "tags": []
          },
          "execution_count": 9
        }
      ]
    },
    {
      "metadata": {
        "id": "4g85CiVNQqUe",
        "colab_type": "code",
        "colab": {
          "autoexec": {
            "startup": false,
            "wait_interval": 0
          }
        }
      },
      "cell_type": "code",
      "source": [
        "#EXTRACT FILES (COLOR IMAGES)\n",
        "zip_ref = zipfile.ZipFile('/content/.kaggle/competitions/miia4406-movie-genre-classification/images.zip', 'r')\n",
        "zip_ref.extractall('/content/.kaggle/competitions/miia4406-movie-genre-classification/images')\n",
        "zip_ref.close()"
      ],
      "execution_count": 0,
      "outputs": []
    },
    {
      "metadata": {
        "id": "hY2akW1kRk25",
        "colab_type": "code",
        "colab": {
          "autoexec": {
            "startup": false,
            "wait_interval": 0
          },
          "base_uri": "https://localhost:8080/",
          "height": 51
        },
        "outputId": "8f44abbc-dbb3-47ff-a6a1-66ec577765af",
        "executionInfo": {
          "status": "ok",
          "timestamp": 1532381200501,
          "user_tz": 300,
          "elapsed": 1505,
          "user": {
            "displayName": "Juan Carlos Eraso",
            "photoUrl": "//lh3.googleusercontent.com/-S-vF252lc_w/AAAAAAAAAAI/AAAAAAAAAAs/o83TlZr9iPQ/s50-c-k-no/photo.jpg",
            "userId": "114375146705102855436"
          }
        }
      },
      "cell_type": "code",
      "source": [
        "%cd /content/.kaggle/competitions/miia4406-movie-genre-classification/images\n",
        "!ls"
      ],
      "execution_count": 11,
      "outputs": [
        {
          "output_type": "stream",
          "text": [
            "/content/.kaggle/competitions/miia4406-movie-genre-classification/images\n",
            "images\n"
          ],
          "name": "stdout"
        }
      ]
    },
    {
      "metadata": {
        "id": "HpUC4cFmkPl1",
        "colab_type": "text"
      },
      "cell_type": "markdown",
      "source": [
        "### read an image"
      ]
    },
    {
      "metadata": {
        "id": "J86-2cYzRwcz",
        "colab_type": "code",
        "colab": {
          "autoexec": {
            "startup": false,
            "wait_interval": 0
          },
          "base_uri": "https://localhost:8080/",
          "height": 71
        },
        "outputId": "254e5348-2a5e-453f-a803-696cc9acca0c",
        "executionInfo": {
          "status": "ok",
          "timestamp": 1532381207658,
          "user_tz": 300,
          "elapsed": 673,
          "user": {
            "displayName": "Juan Carlos Eraso",
            "photoUrl": "//lh3.googleusercontent.com/-S-vF252lc_w/AAAAAAAAAAI/AAAAAAAAAAs/o83TlZr9iPQ/s50-c-k-no/photo.jpg",
            "userId": "114375146705102855436"
          }
        }
      },
      "cell_type": "code",
      "source": [
        "from skimage import io\n",
        "from skimage.transform import resize\n",
        "image = io.imread(os.path.join('/content/.kaggle/competitions/miia4406-movie-genre-classification/images/images', str(dataTraining.index[0]) + '.jpeg'))\n",
        "image = resize(image,(90, 90, 3))"
      ],
      "execution_count": 12,
      "outputs": [
        {
          "output_type": "stream",
          "text": [
            "/usr/local/lib/python3.6/dist-packages/skimage/transform/_warps.py:84: UserWarning: The default mode, 'constant', will be changed to 'reflect' in skimage 0.15.\n",
            "  warn(\"The default mode, 'constant', will be changed to 'reflect' in \"\n"
          ],
          "name": "stderr"
        }
      ]
    },
    {
      "metadata": {
        "id": "03GdxG0JR-Mq",
        "colab_type": "code",
        "colab": {
          "autoexec": {
            "startup": false,
            "wait_interval": 0
          },
          "base_uri": "https://localhost:8080/",
          "height": 34
        },
        "outputId": "08b8616d-9766-4629-8c6d-0239edec48a4",
        "executionInfo": {
          "status": "ok",
          "timestamp": 1532369387020,
          "user_tz": 300,
          "elapsed": 643,
          "user": {
            "displayName": "Juan Carlos Eraso",
            "photoUrl": "//lh3.googleusercontent.com/-S-vF252lc_w/AAAAAAAAAAI/AAAAAAAAAAs/o83TlZr9iPQ/s50-c-k-no/photo.jpg",
            "userId": "114375146705102855436"
          }
        }
      },
      "cell_type": "code",
      "source": [
        "image.shape"
      ],
      "execution_count": 17,
      "outputs": [
        {
          "output_type": "execute_result",
          "data": {
            "text/plain": [
              "(90, 90, 3)"
            ]
          },
          "metadata": {
            "tags": []
          },
          "execution_count": 17
        }
      ]
    },
    {
      "metadata": {
        "id": "IOjoHtC4SEEh",
        "colab_type": "code",
        "colab": {
          "autoexec": {
            "startup": false,
            "wait_interval": 0
          },
          "base_uri": "https://localhost:8080/",
          "height": 285
        },
        "outputId": "a164069f-c5a9-4e7e-a73b-00c6711845fa",
        "executionInfo": {
          "status": "ok",
          "timestamp": 1532369389628,
          "user_tz": 300,
          "elapsed": 825,
          "user": {
            "displayName": "Juan Carlos Eraso",
            "photoUrl": "//lh3.googleusercontent.com/-S-vF252lc_w/AAAAAAAAAAI/AAAAAAAAAAs/o83TlZr9iPQ/s50-c-k-no/photo.jpg",
            "userId": "114375146705102855436"
          }
        }
      },
      "cell_type": "code",
      "source": [
        "fig, ax = plt.subplots(nrows=1, ncols=1)\n",
        "ax.imshow(image)"
      ],
      "execution_count": 18,
      "outputs": [
        {
          "output_type": "execute_result",
          "data": {
            "text/plain": [
              "<matplotlib.image.AxesImage at 0x7f1096280cc0>"
            ]
          },
          "metadata": {
            "tags": []
          },
          "execution_count": 18
        },
        {
          "output_type": "display_data",
          "data": {
            "image/png": "[encoded data removed]",
            "text/plain": [
              "<matplotlib.figure.Figure at 0x7f1098311940>"
            ]
          },
          "metadata": {
            "tags": []
          }
        }
      ]
    },
    {
      "metadata": {
        "id": "a8wYDA1Hkcog",
        "colab_type": "text"
      },
      "cell_type": "markdown",
      "source": [
        "### Images read and array stacking"
      ]
    },
    {
      "metadata": {
        "id": "mj5yGLsk3BMB",
        "colab_type": "text"
      },
      "cell_type": "markdown",
      "source": [
        "##### READ IMAGES TRAINING SET"
      ]
    },
    {
      "metadata": {
        "id": "zbm8HkBHSRH9",
        "colab_type": "code",
        "colab": {
          "autoexec": {
            "startup": false,
            "wait_interval": 0
          },
          "base_uri": "https://localhost:8080/",
          "height": 88
        },
        "outputId": "0099b68d-4c76-4b44-e3e5-fedc5e88fa14",
        "executionInfo": {
          "status": "ok",
          "timestamp": 1532381882024,
          "user_tz": 300,
          "elapsed": 664323,
          "user": {
            "displayName": "Juan Carlos Eraso",
            "photoUrl": "//lh3.googleusercontent.com/-S-vF252lc_w/AAAAAAAAAAI/AAAAAAAAAAs/o83TlZr9iPQ/s50-c-k-no/photo.jpg",
            "userId": "114375146705102855436"
          }
        }
      },
      "cell_type": "code",
      "source": [
        "from PIL import Image\n",
        "Image.MAX_IMAGE_PIXELS = None\n",
        "\n",
        "# READ IMAGES TRAINING SET\n",
        "images_training = []\n",
        "for i in tqdm(dataTraining.index):\n",
        "  image = io.imread(os.path.join('/content/.kaggle/competitions/miia4406-movie-genre-classification/images/images', str(i) + '.jpeg'))\n",
        "  image = resize(image,(90, 90, 3))\n",
        "  images_training.append(image)\n",
        "    \n"
      ],
      "execution_count": 13,
      "outputs": [
        {
          "output_type": "stream",
          "text": [
            "\r  0%|          | 0/7895 [00:00<?, ?it/s]/usr/local/lib/python3.6/dist-packages/skimage/transform/_warps.py:84: UserWarning: The default mode, 'constant', will be changed to 'reflect' in skimage 0.15.\n",
            "  warn(\"The default mode, 'constant', will be changed to 'reflect' in \"\n",
            " 14%|█▎        | 1081/7895 [01:34<09:55, 11.44it/s]"
          ],
          "name": "stderr"
        },
        {
          "output_type": "stream",
          "text": [
            "100%|██████████| 7895/7895 [11:03<00:00, 11.89it/s]\n"
          ],
          "name": "stderr"
        }
      ]
    },
    {
      "metadata": {
        "id": "sMTNTsqkVsY3",
        "colab_type": "code",
        "colab": {
          "autoexec": {
            "startup": false,
            "wait_interval": 0
          }
        }
      },
      "cell_type": "code",
      "source": [
        "images_training = np.stack(images_training)"
      ],
      "execution_count": 0,
      "outputs": []
    },
    {
      "metadata": {
        "id": "ZN0v8DIt3MEp",
        "colab_type": "text"
      },
      "cell_type": "markdown",
      "source": [
        "##### READ IMAGES TESTING SET"
      ]
    },
    {
      "metadata": {
        "id": "UBu6JiFoUxu6",
        "colab_type": "code",
        "colab": {
          "autoexec": {
            "startup": false,
            "wait_interval": 0
          },
          "base_uri": "https://localhost:8080/",
          "height": 88
        },
        "outputId": "d8ebd0d0-083f-4149-bb6f-db2166bea0c2",
        "executionInfo": {
          "status": "ok",
          "timestamp": 1532382645961,
          "user_tz": 300,
          "elapsed": 299810,
          "user": {
            "displayName": "Juan Carlos Eraso",
            "photoUrl": "//lh3.googleusercontent.com/-S-vF252lc_w/AAAAAAAAAAI/AAAAAAAAAAs/o83TlZr9iPQ/s50-c-k-no/photo.jpg",
            "userId": "114375146705102855436"
          }
        }
      },
      "cell_type": "code",
      "source": [
        "# READ IMAGES TESTING SET\n",
        "images_testing = []\n",
        "for i in tqdm(dataTesting.index):\n",
        "  image = io.imread(os.path.join('/content/.kaggle/competitions/miia4406-movie-genre-classification/images/images', str(i) + '.jpeg'))\n",
        "  image = resize(image,(90, 90, 3))\n",
        "  images_testing.append(image)"
      ],
      "execution_count": 15,
      "outputs": [
        {
          "output_type": "stream",
          "text": [
            "  0%|          | 0/3383 [00:00<?, ?it/s]/usr/local/lib/python3.6/dist-packages/skimage/transform/_warps.py:84: UserWarning: The default mode, 'constant', will be changed to 'reflect' in skimage 0.15.\n",
            "  warn(\"The default mode, 'constant', will be changed to 'reflect' in \"\n",
            " 35%|███▌      | 1197/3383 [01:41<03:05, 11.80it/s]"
          ],
          "name": "stderr"
        },
        {
          "output_type": "stream",
          "text": [
            "100%|██████████| 3383/3383 [04:59<00:00, 11.30it/s]\n"
          ],
          "name": "stderr"
        }
      ]
    },
    {
      "metadata": {
        "id": "bgmWYHSMix5P",
        "colab_type": "code",
        "colab": {
          "autoexec": {
            "startup": false,
            "wait_interval": 0
          },
          "base_uri": "https://localhost:8080/",
          "height": 34
        },
        "outputId": "c8752784-8362-4e8e-a6cf-f40be297de32",
        "executionInfo": {
          "status": "ok",
          "timestamp": 1532382827971,
          "user_tz": 300,
          "elapsed": 845,
          "user": {
            "displayName": "Juan Carlos Eraso",
            "photoUrl": "//lh3.googleusercontent.com/-S-vF252lc_w/AAAAAAAAAAI/AAAAAAAAAAs/o83TlZr9iPQ/s50-c-k-no/photo.jpg",
            "userId": "114375146705102855436"
          }
        }
      },
      "cell_type": "code",
      "source": [
        "images_testing = np.stack(images_testing)\n",
        "\n",
        "images_testing.shape, dataTesting.shape[0]"
      ],
      "execution_count": 16,
      "outputs": [
        {
          "output_type": "execute_result",
          "data": {
            "text/plain": [
              "((3383, 90, 90, 3), 3383)"
            ]
          },
          "metadata": {
            "tags": []
          },
          "execution_count": 16
        }
      ]
    },
    {
      "metadata": {
        "id": "u1kS8gYt7ZGr",
        "colab_type": "text"
      },
      "cell_type": "markdown",
      "source": [
        "### Create y"
      ]
    },
    {
      "metadata": {
        "id": "LBFhEePRU6cm",
        "colab_type": "code",
        "colab": {
          "autoexec": {
            "startup": false,
            "wait_interval": 0
          }
        }
      },
      "cell_type": "code",
      "source": [
        "dataTraining['genres'] = dataTraining['genres'].map(lambda x: eval(x))\n",
        "le = MultiLabelBinarizer()\n",
        "y_genres = le.fit_transform(dataTraining['genres'])"
      ],
      "execution_count": 0,
      "outputs": []
    },
    {
      "metadata": {
        "id": "jSzOxcX_xCrs",
        "colab_type": "code",
        "colab": {
          "autoexec": {
            "startup": false,
            "wait_interval": 0
          },
          "base_uri": "https://localhost:8080/",
          "height": 34
        },
        "outputId": "4723c525-42d0-49c1-e4e5-5da5e1476481",
        "executionInfo": {
          "status": "ok",
          "timestamp": 1532382847451,
          "user_tz": 300,
          "elapsed": 484,
          "user": {
            "displayName": "Juan Carlos Eraso",
            "photoUrl": "//lh3.googleusercontent.com/-S-vF252lc_w/AAAAAAAAAAI/AAAAAAAAAAs/o83TlZr9iPQ/s50-c-k-no/photo.jpg",
            "userId": "114375146705102855436"
          }
        }
      },
      "cell_type": "code",
      "source": [
        "y_genres.shape"
      ],
      "execution_count": 18,
      "outputs": [
        {
          "output_type": "execute_result",
          "data": {
            "text/plain": [
              "(7895, 24)"
            ]
          },
          "metadata": {
            "tags": []
          },
          "execution_count": 18
        }
      ]
    },
    {
      "metadata": {
        "id": "n9RyiI56nMD_",
        "colab_type": "text"
      },
      "cell_type": "markdown",
      "source": [
        "#IMAGES MODEL (DEEP LEARNING)"
      ]
    },
    {
      "metadata": {
        "id": "Z-UjVUgE7mHC",
        "colab_type": "text"
      },
      "cell_type": "markdown",
      "source": [
        "### Train and test split (For images)"
      ]
    },
    {
      "metadata": {
        "id": "lc7V8FE2VDkM",
        "colab_type": "code",
        "colab": {
          "autoexec": {
            "startup": false,
            "wait_interval": 0
          }
        }
      },
      "cell_type": "code",
      "source": [
        "X_train_img, X_test_img, y_train_genres_img, y_test_genres_img = train_test_split(images_training, y_genres, test_size=0.25)"
      ],
      "execution_count": 0,
      "outputs": []
    },
    {
      "metadata": {
        "id": "2AY5TDuJ0_AX",
        "colab_type": "text"
      },
      "cell_type": "markdown",
      "source": [
        "## Neural network model"
      ]
    },
    {
      "metadata": {
        "id": "IHP9NL2eVnQU",
        "colab_type": "code",
        "colab": {
          "autoexec": {
            "startup": false,
            "wait_interval": 0
          }
        }
      },
      "cell_type": "code",
      "source": [
        "##modelo propuesto\n",
        "input_shape= (90, 90, 3) \n",
        "num_class=24\n",
        "\n",
        "model = Sequential()\n",
        "\n",
        "model.add(Conv2D(32, (3, 3), input_shape=input_shape))\n",
        "model.add(Activation('relu'))\n",
        "model.add(MaxPooling2D(pool_size=(2, 2)))\n",
        "# layer 2\n",
        "model.add(Conv2D(32, (3, 3)))\n",
        "model.add(Activation('relu'))\n",
        "model.add(MaxPooling2D(pool_size=(2, 2)))\n",
        "\t# layer 3\n",
        "model.add(Conv2D(32, (3, 3)))\n",
        "model.add(Activation('relu'))\n",
        "model.add(MaxPooling2D(pool_size=(2, 2)))\n",
        "\t# layer 4\n",
        "model.add(Conv2D(64, (3, 3)))\n",
        "model.add(Activation('relu'))\n",
        "model.add(MaxPooling2D(pool_size=(2, 2)))\n",
        "\t# layer 5\n",
        "model.add(Flatten())\n",
        "model.add(Dense(128))\n",
        "model.add(Activation('relu'))\n",
        "model.add(Dropout(0.5))\n",
        "\t# layer 6\n",
        "model.add(Dense(128))\n",
        "model.add(Activation('relu'))\n",
        "model.add(Dropout(0.5))\n",
        "  # layer 7\n",
        "model.add(Dense(num_class))\n",
        "model.add(Activation('sigmoid'))\n",
        "  #Compile\n",
        "model.compile(loss='binary_crossentropy',optimizer=Adam(),metrics=['accuracy'])\n"
      ],
      "execution_count": 0,
      "outputs": []
    },
    {
      "metadata": {
        "id": "2fhR9sRZf3f7",
        "colab_type": "code",
        "colab": {
          "autoexec": {
            "startup": false,
            "wait_interval": 0
          },
          "base_uri": "https://localhost:8080/",
          "height": 119
        },
        "outputId": "99c7effe-0ce5-41da-8c2e-ed500ffce3e9",
        "executionInfo": {
          "status": "ok",
          "timestamp": 1532384808588,
          "user_tz": 300,
          "elapsed": 170472,
          "user": {
            "displayName": "Juan Carlos Eraso",
            "photoUrl": "//lh3.googleusercontent.com/-S-vF252lc_w/AAAAAAAAAAI/AAAAAAAAAAs/o83TlZr9iPQ/s50-c-k-no/photo.jpg",
            "userId": "114375146705102855436"
          }
        }
      },
      "cell_type": "code",
      "source": [
        "# Fit the model 2 Epochs\n",
        "model.fit(X_train_img, y_train_genres_img, epochs=2,validation_data=(X_test_img, y_test_genres_img))\n",
        "\n",
        "y_pred_genres = model.predict_proba(X_test_img)\n",
        "print(roc_auc_score(y_test_genres_img, y_pred_genres, average='macro'))"
      ],
      "execution_count": 22,
      "outputs": [
        {
          "output_type": "stream",
          "text": [
            "Train on 5921 samples, validate on 1974 samples\n",
            "Epoch 1/2\n",
            "5921/5921 [==============================] - 81s 14ms/step - loss: 0.2600 - acc: 0.8982 - val_loss: 0.2856 - val_acc: 0.8927\n",
            "Epoch 2/2\n",
            "5921/5921 [==============================] - 81s 14ms/step - loss: 0.2548 - acc: 0.9000 - val_loss: 0.2901 - val_acc: 0.8908\n",
            "0.6062430544624441\n"
          ],
          "name": "stdout"
        }
      ]
    },
    {
      "metadata": {
        "id": "rhKbn6QkeuCX",
        "colab_type": "text"
      },
      "cell_type": "markdown",
      "source": [
        "# TEXT (DEEP LEARNING)"
      ]
    },
    {
      "metadata": {
        "id": "59i3Tjy26wS5",
        "colab_type": "text"
      },
      "cell_type": "markdown",
      "source": [
        "### Import and vectorize"
      ]
    },
    {
      "metadata": {
        "id": "154YI6i3e1bn",
        "colab_type": "code",
        "colab": {
          "autoexec": {
            "startup": false,
            "wait_interval": 0
          }
        }
      },
      "cell_type": "code",
      "source": [
        "import pandas as pd\n",
        "import os\n",
        "import numpy as np\n",
        "from sklearn.feature_extraction.text import CountVectorizer\n",
        "from sklearn.preprocessing import MultiLabelBinarizer\n",
        "from sklearn.multiclass import OneVsRestClassifier\n",
        "from sklearn.ensemble import RandomForestRegressor, RandomForestClassifier\n",
        "from sklearn.metrics import r2_score, roc_auc_score\n",
        "from sklearn.model_selection import train_test_split\n",
        "\n",
        "import io"
      ],
      "execution_count": 0,
      "outputs": []
    },
    {
      "metadata": {
        "id": "paBbin7Rf0_o",
        "colab_type": "code",
        "colab": {
          "autoexec": {
            "startup": false,
            "wait_interval": 0
          },
          "base_uri": "https://localhost:8080/",
          "height": 68
        },
        "outputId": "3a296107-53e0-4968-b3d6-ac295af74d3e",
        "executionInfo": {
          "status": "ok",
          "timestamp": 1532380318581,
          "user_tz": 300,
          "elapsed": 6553,
          "user": {
            "displayName": "Juan Carlos Eraso",
            "photoUrl": "//lh3.googleusercontent.com/-S-vF252lc_w/AAAAAAAAAAI/AAAAAAAAAAs/o83TlZr9iPQ/s50-c-k-no/photo.jpg",
            "userId": "114375146705102855436"
          }
        }
      },
      "cell_type": "code",
      "source": [
        "import nltk\n",
        "nltk.download('wordnet') #Download package for using in CoLab\n",
        "\n",
        "X_train = dataTraining['plot']\n",
        "\n",
        "\n",
        "from sklearn.feature_extraction.text import CountVectorizer\n",
        "from nltk.stem import WordNetLemmatizer\n",
        "wordnet_lemmatizer = WordNetLemmatizer()\n",
        "\n",
        "#Definition of function used for lemmatize\n",
        "def split_into_lemmas(text):\n",
        "    text = text.lower()\n",
        "    words = text.split()\n",
        "    return [wordnet_lemmatizer.lemmatize(word) for word in words]\n",
        "\n",
        "#Use CountVectorizer to create document-term matrices from X\n",
        "vect = CountVectorizer(lowercase=False,#Does not convert characters to lowercase\n",
        "                      ngram_range=(1, 3), # include n-grams \n",
        "                      stop_words='english',\n",
        "                      max_features=100000,\n",
        "                      analyzer=split_into_lemmas #lemmas\n",
        "                      )\n",
        "\n",
        "X_dtm = vect.fit_transform(X_train)\n",
        "print(X_dtm.shape)"
      ],
      "execution_count": 105,
      "outputs": [
        {
          "output_type": "stream",
          "text": [
            "[nltk_data] Downloading package wordnet to /content/nltk_data...\n",
            "[nltk_data]   Package wordnet is already up-to-date!\n",
            "(7895, 34629)\n"
          ],
          "name": "stdout"
        }
      ]
    },
    {
      "metadata": {
        "id": "kZ6qpk2hApzZ",
        "colab_type": "text"
      },
      "cell_type": "markdown",
      "source": [
        "### Train and test split (For Text)"
      ]
    },
    {
      "metadata": {
        "id": "TT7mYHoQAqTi",
        "colab_type": "code",
        "colab": {
          "autoexec": {
            "startup": false,
            "wait_interval": 0
          }
        }
      },
      "cell_type": "code",
      "source": [
        "X_train_txt, X_test_txt, y_train_genres_txt, y_test_genres_txt = train_test_split(X_dtm, y_genres, test_size=0.25)"
      ],
      "execution_count": 0,
      "outputs": []
    },
    {
      "metadata": {
        "id": "Snlk6G3Iwg_I",
        "colab_type": "text"
      },
      "cell_type": "markdown",
      "source": [
        "## NEURAL NETWORK MODEL"
      ]
    },
    {
      "metadata": {
        "id": "6x28ykzOwhdX",
        "colab_type": "code",
        "colab": {
          "autoexec": {
            "startup": false,
            "wait_interval": 0
          },
          "base_uri": "https://localhost:8080/",
          "height": 238
        },
        "outputId": "b7bac452-e163-45ed-9e4b-1c5e3b42708f",
        "executionInfo": {
          "status": "ok",
          "timestamp": 1532380347723,
          "user_tz": 300,
          "elapsed": 644,
          "user": {
            "displayName": "Juan Carlos Eraso",
            "photoUrl": "//lh3.googleusercontent.com/-S-vF252lc_w/AAAAAAAAAAI/AAAAAAAAAAs/o83TlZr9iPQ/s50-c-k-no/photo.jpg",
            "userId": "114375146705102855436"
          }
        }
      },
      "cell_type": "code",
      "source": [
        "modelTxt = Sequential()\n",
        "\n",
        "modelTxt.add(Dense(254, activation='relu',input_shape = X_dtm.shape[1:]))\n",
        "modelTxt.add(Dropout(0.5))\n",
        "modelTxt.add(Dense(24, activation='sigmoid'))\n",
        "\n",
        "modelTxt.compile(loss='categorical_crossentropy',optimizer='Adam',metrics=['accuracy'])\n",
        "modelTxt.summary()"
      ],
      "execution_count": 107,
      "outputs": [
        {
          "output_type": "stream",
          "text": [
            "_________________________________________________________________\n",
            "Layer (type)                 Output Shape              Param #   \n",
            "=================================================================\n",
            "dense_62 (Dense)             (None, 254)               8796020   \n",
            "_________________________________________________________________\n",
            "dropout_40 (Dropout)         (None, 254)               0         \n",
            "_________________________________________________________________\n",
            "dense_63 (Dense)             (None, 24)                6120      \n",
            "=================================================================\n",
            "Total params: 8,802,140\n",
            "Trainable params: 8,802,140\n",
            "Non-trainable params: 0\n",
            "_________________________________________________________________\n"
          ],
          "name": "stdout"
        }
      ]
    },
    {
      "metadata": {
        "id": "ajDY33VOXClq",
        "colab_type": "code",
        "colab": {
          "autoexec": {
            "startup": false,
            "wait_interval": 0
          },
          "base_uri": "https://localhost:8080/",
          "height": 411
        },
        "outputId": "00207ecf-9302-4088-e1be-5857975fcaf7",
        "executionInfo": {
          "status": "ok",
          "timestamp": 1532380453735,
          "user_tz": 300,
          "elapsed": 87400,
          "user": {
            "displayName": "Juan Carlos Eraso",
            "photoUrl": "//lh3.googleusercontent.com/-S-vF252lc_w/AAAAAAAAAAI/AAAAAAAAAAs/o83TlZr9iPQ/s50-c-k-no/photo.jpg",
            "userId": "114375146705102855436"
          }
        }
      },
      "cell_type": "code",
      "source": [
        "#Fit model with 10 epochs\n",
        "modelTxt.fit(X_train_txt, y_train_genres_txt, epochs=10,batch_size=16,verbose=1,validation_data=(X_test_txt, y_test_genres_txt))\n",
        "y_pred_genres_txt = modelTxt.predict_proba(X_test_txt)\n",
        "roc_auc_score(y_test_genres_txt, y_pred_genres_txt, average='macro')"
      ],
      "execution_count": 108,
      "outputs": [
        {
          "output_type": "stream",
          "text": [
            "Train on 5921 samples, validate on 1974 samples\n",
            "Epoch 1/10\n",
            "5921/5921 [==============================] - 10s 2ms/step - loss: 7.1312 - acc: 0.1971 - val_loss: 6.3585 - val_acc: 0.2052\n",
            "Epoch 2/10\n",
            "5921/5921 [==============================] - 8s 1ms/step - loss: 5.7431 - acc: 0.1966 - val_loss: 5.9151 - val_acc: 0.2031\n",
            "Epoch 3/10\n",
            "5584/5921 [===========================>..] - ETA: 0s - loss: 4.8940 - acc: 0.3213"
          ],
          "name": "stdout"
        },
        {
          "output_type": "stream",
          "text": [
            "5921/5921 [==============================] - 8s 1ms/step - loss: 4.8797 - acc: 0.3238 - val_loss: 5.8614 - val_acc: 0.3191\n",
            "Epoch 4/10\n",
            "5921/5921 [==============================] - 8s 1ms/step - loss: 4.3422 - acc: 0.4325 - val_loss: 5.8950 - val_acc: 0.3739\n",
            "Epoch 5/10\n",
            "5921/5921 [==============================] - 8s 1ms/step - loss: 4.0086 - acc: 0.4572 - val_loss: 6.1506 - val_acc: 0.3389\n",
            "Epoch 6/10\n",
            "2800/5921 [=============>................] - ETA: 3s - loss: 3.8440 - acc: 0.4682"
          ],
          "name": "stdout"
        },
        {
          "output_type": "stream",
          "text": [
            "5921/5921 [==============================] - 8s 1ms/step - loss: 3.7951 - acc: 0.4717 - val_loss: 6.1201 - val_acc: 0.3430\n",
            "Epoch 7/10\n",
            "5921/5921 [==============================] - 8s 1ms/step - loss: 3.6568 - acc: 0.4739 - val_loss: 6.2445 - val_acc: 0.3349\n",
            "Epoch 8/10\n",
            "5921/5921 [==============================] - 8s 1ms/step - loss: 3.5419 - acc: 0.4862 - val_loss: 6.4810 - val_acc: 0.3642\n",
            "Epoch 9/10\n",
            "2320/5921 [==========>...................] - ETA: 4s - loss: 3.5077 - acc: 0.4862"
          ],
          "name": "stdout"
        },
        {
          "output_type": "stream",
          "text": [
            "5921/5921 [==============================] - 8s 1ms/step - loss: 3.4829 - acc: 0.4842 - val_loss: 6.6327 - val_acc: 0.3571\n",
            "Epoch 10/10\n",
            "5921/5921 [==============================] - 8s 1ms/step - loss: 3.4202 - acc: 0.4778 - val_loss: 6.7199 - val_acc: 0.3217\n"
          ],
          "name": "stdout"
        },
        {
          "output_type": "execute_result",
          "data": {
            "text/plain": [
              "0.8776462943260785"
            ]
          },
          "metadata": {
            "tags": []
          },
          "execution_count": 108
        }
      ]
    },
    {
      "metadata": {
        "id": "0bUxVv2Qg1jM",
        "colab_type": "text"
      },
      "cell_type": "markdown",
      "source": [
        "# Train multi-class multi-label models (Machine learning)"
      ]
    },
    {
      "metadata": {
        "id": "32XlkKoL8yij",
        "colab_type": "code",
        "colab": {
          "autoexec": {
            "startup": false,
            "wait_interval": 0
          },
          "base_uri": "https://localhost:8080/",
          "height": 34
        },
        "outputId": "ec14074d-bcf4-428b-f5a6-cb4932e45a17",
        "executionInfo": {
          "status": "ok",
          "timestamp": 1532380500071,
          "user_tz": 300,
          "elapsed": 983,
          "user": {
            "displayName": "Juan Carlos Eraso",
            "photoUrl": "//lh3.googleusercontent.com/-S-vF252lc_w/AAAAAAAAAAI/AAAAAAAAAAs/o83TlZr9iPQ/s50-c-k-no/photo.jpg",
            "userId": "114375146705102855436"
          }
        }
      },
      "cell_type": "code",
      "source": [
        "X_train.shape\n",
        "y_train_genres"
      ],
      "execution_count": 109,
      "outputs": [
        {
          "output_type": "execute_result",
          "data": {
            "text/plain": [
              "(7895,)"
            ]
          },
          "metadata": {
            "tags": []
          },
          "execution_count": 109
        }
      ]
    },
    {
      "metadata": {
        "id": "mSKOQ-alg2bb",
        "colab_type": "code",
        "colab": {
          "autoexec": {
            "startup": false,
            "wait_interval": 0
          }
        }
      },
      "cell_type": "code",
      "source": [
        "#:::IMAGES:::#\n",
        "\n",
        "clfImg = OneVsRestClassifier(RandomForestClassifier(n_jobs=-1, n_estimators=200, max_depth=10))\n",
        "clfImg.fit(X_train_img, y_train_genres_img)\n",
        "\n",
        "y_pred_genres_img_ML = clfImg.predict_proba(X_test_img)\n",
        "\n",
        "print(roc_auc_score(y_test_genres_img, y_pred_genres_img_ML, average='macro'))"
      ],
      "execution_count": 0,
      "outputs": []
    },
    {
      "metadata": {
        "id": "Rpy_77_-7YTQ",
        "colab_type": "code",
        "colab": {
          "autoexec": {
            "startup": false,
            "wait_interval": 0
          }
        }
      },
      "cell_type": "code",
      "source": [
        "#:::TEXT:::#\n",
        "clfTxt = OneVsRestClassifier(RandomForestClassifier(n_jobs=-1, n_estimators=100, max_depth=10))\n",
        "clfTxt.fit(X_train_txt, y_train_genres_txt)\n",
        "\n",
        "y_pred_genres_txt_ML = clf.predict_proba(X_test_txt)\n",
        "\n",
        "print(\"txt Acc = \",roc_auc_score(y_test_genres_txt, y_pred_genres_txt_ML, average='macro'))"
      ],
      "execution_count": 0,
      "outputs": []
    },
    {
      "metadata": {
        "id": "5eh6kCMFit8J",
        "colab_type": "text"
      },
      "cell_type": "markdown",
      "source": [
        "# Apply models to kaggle test"
      ]
    },
    {
      "metadata": {
        "id": "mSDegfgHj1JM",
        "colab_type": "code",
        "colab": {
          "autoexec": {
            "startup": false,
            "wait_interval": 0
          }
        }
      },
      "cell_type": "code",
      "source": [
        "cols = ['p_Action', 'p_Adventure', 'p_Animation', 'p_Biography', 'p_Comedy', 'p_Crime', 'p_Documentary', 'p_Drama', 'p_Family',\n",
        "        'p_Fantasy', 'p_Film-Noir', 'p_History', 'p_Horror', 'p_Music', 'p_Musical', 'p_Mystery', 'p_News', 'p_Romance',\n",
        "        'p_Sci-Fi', 'p_Short', 'p_Sport', 'p_Thriller', 'p_War', 'p_Western']\n",
        "\n",
        "X_test_dtm = vect.transform(dataTesting['plot'])\n"
      ],
      "execution_count": 0,
      "outputs": []
    },
    {
      "metadata": {
        "id": "UM569p1Xi724",
        "colab_type": "text"
      },
      "cell_type": "markdown",
      "source": [
        "### MACHINE LEARNING"
      ]
    },
    {
      "metadata": {
        "id": "i5p2YrZoirO5",
        "colab_type": "code",
        "colab": {
          "autoexec": {
            "startup": false,
            "wait_interval": 0
          }
        }
      },
      "cell_type": "code",
      "source": [
        "#::::IMAGES::::#\n",
        "#Apply multi-class multi-label model to kaggle test set\n",
        "y_pred_test_genres_img_ML = clf.predict_proba(images_testing)\n",
        "\n",
        "#::::TEXT::::#\n",
        "#Apply multi-class multi-label model to kaggle test set\n",
        "y_pred_test_genres_txt_ML = clf.predict_proba(X_test_dtm)\n"
      ],
      "execution_count": 0,
      "outputs": []
    },
    {
      "metadata": {
        "id": "G9vNPyf_i-EP",
        "colab_type": "text"
      },
      "cell_type": "markdown",
      "source": [
        "### DEEP LEARNING"
      ]
    },
    {
      "metadata": {
        "id": "oaQwF4PHi-nZ",
        "colab_type": "code",
        "colab": {
          "autoexec": {
            "startup": false,
            "wait_interval": 0
          }
        }
      },
      "cell_type": "code",
      "source": [
        "#::::IMAGES::::Apply Deep model to kaggle test set\n",
        "X_test_genres_img_DL = model_vgg16.predict(images_testing)\n",
        "y_pred_test_genres_img_DL = model.predict_proba(X_test_genres_img_DL)\n"
      ],
      "execution_count": 0,
      "outputs": []
    },
    {
      "metadata": {
        "id": "_nW2BYSPRu1i",
        "colab_type": "code",
        "colab": {
          "autoexec": {
            "startup": false,
            "wait_interval": 0
          }
        }
      },
      "cell_type": "code",
      "source": [
        "#::::TEXT::::Apply Deep model to kaggle test set\n",
        "y_pred_test_genres_txt_DL = modelTxt.predict_proba(X_test_dtm)\n",
        "\n",
        "\n",
        "\n"
      ],
      "execution_count": 0,
      "outputs": []
    },
    {
      "metadata": {
        "id": "tXXjWfmse96B",
        "colab_type": "text"
      },
      "cell_type": "markdown",
      "source": [
        "# MODELS COMBINATION "
      ]
    },
    {
      "metadata": {
        "id": "NkvoHmxphnrm",
        "colab_type": "text"
      },
      "cell_type": "markdown",
      "source": [
        "### MACHINE LEARNING"
      ]
    },
    {
      "metadata": {
        "id": "1qPOS2o-fAcw",
        "colab_type": "code",
        "colab": {
          "autoexec": {
            "startup": false,
            "wait_interval": 0
          }
        }
      },
      "cell_type": "code",
      "source": [
        "#Then weighted average is calculated to obtain each probabilitie for MACHINE LEARNING MODELS\n",
        "finalResultsML = y_pred_test_genres_img_ML*w_img + y_pred_test_genres_txt_ML*w_txt\n",
        "print (finalResultsML)\n",
        "pd.DataFrame(finalResultsML, index=dataTesting.index, columns=cols).to_csv('FP_ML.csv', index_label='ID')"
      ],
      "execution_count": 0,
      "outputs": []
    },
    {
      "metadata": {
        "id": "uUT1q3h0L3sT",
        "colab_type": "code",
        "colab": {
          "autoexec": {
            "startup": false,
            "wait_interval": 0
          }
        }
      },
      "cell_type": "code",
      "source": [
        "!kaggle competitions submit -c miia4406-movie-genre-classification -f FP_ML.csv -m \"FINAL WITH MACHINE LEARNING\""
      ],
      "execution_count": 0,
      "outputs": []
    },
    {
      "metadata": {
        "id": "eDo7SePWDsba",
        "colab_type": "text"
      },
      "cell_type": "markdown",
      "source": [
        ""
      ]
    },
    {
      "metadata": {
        "id": "x143DQo3hvGS",
        "colab_type": "text"
      },
      "cell_type": "markdown",
      "source": [
        "### DEEP LEARNING"
      ]
    },
    {
      "metadata": {
        "id": "DRtuWkCKO_gH",
        "colab_type": "code",
        "colab": {
          "autoexec": {
            "startup": false,
            "wait_interval": 0
          }
        }
      },
      "cell_type": "code",
      "source": [
        "y_pred_test_genres_img_DL = np.array(y_pred_test_genres_img_DL)\n",
        "y_pred_test_genres_txt_DL = np.array(y_pred_test_genres_txt_DL)"
      ],
      "execution_count": 0,
      "outputs": []
    },
    {
      "metadata": {
        "id": "EQ0U8hp8MDWW",
        "colab_type": "code",
        "colab": {
          "autoexec": {
            "startup": false,
            "wait_interval": 0
          },
          "base_uri": "https://localhost:8080/",
          "height": 51
        },
        "outputId": "cf62200b-1aa1-4967-a88b-a931a10cca97",
        "executionInfo": {
          "status": "ok",
          "timestamp": 1532345007914,
          "user_tz": 300,
          "elapsed": 689,
          "user": {
            "displayName": "Juan Carlos Eraso",
            "photoUrl": "//lh3.googleusercontent.com/-S-vF252lc_w/AAAAAAAAAAI/AAAAAAAAAAs/o83TlZr9iPQ/s50-c-k-no/photo.jpg",
            "userId": "114375146705102855436"
          }
        }
      },
      "cell_type": "code",
      "source": [
        "print(y_pred_test_genres_img_DL.shape,y_pred_test_genres_img_DL.dtype)\n",
        "print(y_pred_test_genres_txt_DL.shape,y_pred_test_genres_txt_DL.dtype)"
      ],
      "execution_count": 104,
      "outputs": [
        {
          "output_type": "stream",
          "text": [
            "(3383, 24) float32\n",
            "(3383, 24) float32\n"
          ],
          "name": "stdout"
        }
      ]
    },
    {
      "metadata": {
        "id": "9-WuGDW3hwNO",
        "colab_type": "code",
        "colab": {
          "autoexec": {
            "startup": false,
            "wait_interval": 0
          },
          "base_uri": "https://localhost:8080/",
          "height": 238
        },
        "outputId": "0e4f8d7e-6bce-41ca-ce3a-63e3eefa0328",
        "executionInfo": {
          "status": "ok",
          "timestamp": 1532346787731,
          "user_tz": 300,
          "elapsed": 575,
          "user": {
            "displayName": "Juan Carlos Eraso",
            "photoUrl": "//lh3.googleusercontent.com/-S-vF252lc_w/AAAAAAAAAAI/AAAAAAAAAAs/o83TlZr9iPQ/s50-c-k-no/photo.jpg",
            "userId": "114375146705102855436"
          }
        }
      },
      "cell_type": "code",
      "source": [
        "#weights are assigned for each model\n",
        "w_img = 0.002\n",
        "w_txt = 1-w_img\n",
        "\n",
        "#Then weighted average is calculated to obtain each probabilitie for DEEP MODELS\n",
        "finalResultsDL = w_img*y_pred_test_genres_img_DL + w_txt*y_pred_test_genres_txt_DL\n",
        "\n",
        "print (finalResultsDL)\n",
        "\n",
        "#create csv\n",
        "pd.DataFrame(finalResultsDL, index=dataTesting.index, columns=cols).to_csv('FP_DL.csv', index_label='ID')"
      ],
      "execution_count": 125,
      "outputs": [
        {
          "output_type": "stream",
          "text": [
            "[[2.02579405e-02 4.72591491e-03 3.18890176e-04 ... 7.00241551e-02\n",
            "  7.87152909e-04 6.64637890e-04]\n",
            " [4.90080006e-02 1.79138163e-03 6.84037455e-04 ... 4.32073504e-01\n",
            "  1.02146412e-03 4.32320288e-04]\n",
            " [1.09416689e-03 7.68909638e-04 1.05762265e-04 ... 9.98880863e-01\n",
            "  2.47651857e-04 1.33223948e-04]\n",
            " ...\n",
            " [2.40550586e-03 1.96793955e-03 1.90236233e-02 ... 1.90092833e-03\n",
            "  3.93418333e-04 2.99320614e-04]\n",
            " [1.41754728e-02 8.20361793e-01 6.86604604e-02 ... 2.29662564e-03\n",
            "  7.01972051e-04 3.29124596e-04]\n",
            " [2.02094503e-02 3.54105346e-02 7.45067820e-02 ... 3.62583511e-02\n",
            "  6.29153044e-04 4.33981593e-04]]\n"
          ],
          "name": "stdout"
        }
      ]
    },
    {
      "metadata": {
        "id": "3JRKuy8X8lTN",
        "colab_type": "code",
        "colab": {
          "autoexec": {
            "startup": false,
            "wait_interval": 0
          }
        }
      },
      "cell_type": "code",
      "source": [
        "files.download('FP_DL.csv')"
      ],
      "execution_count": 0,
      "outputs": []
    },
    {
      "metadata": {
        "id": "yfw9cf-44k6q",
        "colab_type": "code",
        "colab": {
          "autoexec": {
            "startup": false,
            "wait_interval": 0
          },
          "base_uri": "https://localhost:8080/",
          "height": 34
        },
        "outputId": "eb2b2961-8385-4da9-93e0-6a9f4e51040b",
        "executionInfo": {
          "status": "ok",
          "timestamp": 1532346623024,
          "user_tz": 300,
          "elapsed": 126389,
          "user": {
            "displayName": "Juan Carlos Eraso",
            "photoUrl": "//lh3.googleusercontent.com/-S-vF252lc_w/AAAAAAAAAAI/AAAAAAAAAAs/o83TlZr9iPQ/s50-c-k-no/photo.jpg",
            "userId": "114375146705102855436"
          }
        }
      },
      "cell_type": "code",
      "source": [
        "#submit results to competition\n",
        "!kaggle competitions submit -c miia4406-movie-genre-classification -f FP_DL.csv -m \"FINAL DEEP LEARNING\""
      ],
      "execution_count": 122,
      "outputs": [
        {
          "output_type": "stream",
          "text": [
            "503 - Service Unavailable\r\n"
          ],
          "name": "stdout"
        }
      ]
    },
    {
      "metadata": {
        "id": "07omVEPNL2AF",
        "colab_type": "code",
        "colab": {
          "autoexec": {
            "startup": false,
            "wait_interval": 0
          }
        }
      },
      "cell_type": "code",
      "source": [
        "#!kaggle competitions submit -c miia4406-movie-genre-classification -f FP_DL.csv -m \"FINAL WITH DEEP LEARNING\""
      ],
      "execution_count": 0,
      "outputs": []
    },
    {
      "metadata": {
        "id": "IFUry0NReBDT",
        "colab_type": "code",
        "colab": {
          "autoexec": {
            "startup": false,
            "wait_interval": 0
          }
        }
      },
      "cell_type": "code",
      "source": [
        ""
      ],
      "execution_count": 0,
      "outputs": []
    }
  ]
}